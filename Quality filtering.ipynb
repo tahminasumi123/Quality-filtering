{
 "cells": [
  {
   "cell_type": "markdown",
   "id": "d211a08b",
   "metadata": {},
   "source": [
    "Simple quality filtering for FASTQ files\n",
    "One common task when working with FASTQ fikes is taking a large set of sequencing reads and filtering them based on their quality scores. We are going to read FASTQ data, and filter it to pick out only those records whose PHRED quality scores are all above some threshold."
   ]
  },
  {
   "cell_type": "code",
   "execution_count": 20,
   "id": "91890998",
   "metadata": {},
   "outputs": [
    {
     "name": "stderr",
     "output_type": "stream",
     "text": [
      "'wget' is not recognized as an internal or external command,\n",
      "operable program or batch file.\n"
     ]
    }
   ],
   "source": [
    "!wget ftp://ftp.sra.ebi.ac.uk/vol1/fastq/SRR020/SRR020192/SRR020192.fastq.gz "
   ]
  },
  {
   "cell_type": "code",
   "execution_count": 22,
   "id": "8a0a2339",
   "metadata": {},
   "outputs": [
    {
     "name": "stdout",
     "output_type": "stream",
     "text": [
      "File decompressed successfully.\n"
     ]
    }
   ],
   "source": [
    "import gzip\n",
    "import shutil\n",
    "\n",
    "compressed_filename = \"SRR020192.fastq.gz\"\n",
    "uncompressed_filename = \"SRR020192.fastq\"\n",
    "\n",
    "with gzip.open(compressed_filename, 'rb') as f_in:\n",
    "    with open(uncompressed_filename, 'wb') as f_out:\n",
    "        shutil.copyfileobj(f_in, f_out)\n",
    "\n",
    "print(\"File decompressed successfully.\")\n"
   ]
  },
  {
   "cell_type": "code",
   "execution_count": 23,
   "id": "ef0747a6",
   "metadata": {},
   "outputs": [
    {
     "name": "stdout",
     "output_type": "stream",
     "text": [
      "We have 41892 reads.\n"
     ]
    }
   ],
   "source": [
    "from Bio import SeqIO\n",
    "count = 0\n",
    "for rec in SeqIO.parse(\"SRR020192.fastq\", \"fastq\"):\n",
    "    count += 1\n",
    "print(f\"We have {count} reads.\")"
   ]
  },
  {
   "cell_type": "code",
   "execution_count": 24,
   "id": "1ca59022",
   "metadata": {},
   "outputs": [
    {
     "data": {
      "text/plain": [
       "[24,\n",
       " 23,\n",
       " 27,\n",
       " 30,\n",
       " 30,\n",
       " 30,\n",
       " 23,\n",
       " 23,\n",
       " 24,\n",
       " 23,\n",
       " 23,\n",
       " 30,\n",
       " 28,\n",
       " 27,\n",
       " 25,\n",
       " 25,\n",
       " 27,\n",
       " 27,\n",
       " 27,\n",
       " 22,\n",
       " 22,\n",
       " 24,\n",
       " 18,\n",
       " 18,\n",
       " 18,\n",
       " 30,\n",
       " 19,\n",
       " 19,\n",
       " 23,\n",
       " 23,\n",
       " 30,\n",
       " 30,\n",
       " 32,\n",
       " 32,\n",
       " 32,\n",
       " 30,\n",
       " 24,\n",
       " 23,\n",
       " 23,\n",
       " 27,\n",
       " 30,\n",
       " 32,\n",
       " 30,\n",
       " 32,\n",
       " 29,\n",
       " 28,\n",
       " 28,\n",
       " 17,\n",
       " 17,\n",
       " 17,\n",
       " 17,\n",
       " 24,\n",
       " 17,\n",
       " 17,\n",
       " 13,\n",
       " 15,\n",
       " 17,\n",
       " 25,\n",
       " 25,\n",
       " 24,\n",
       " 24,\n",
       " 23,\n",
       " 27,\n",
       " 27,\n",
       " 15,\n",
       " 15,\n",
       " 15,\n",
       " 15,\n",
       " 15,\n",
       " 17,\n",
       " 17,\n",
       " 11,\n",
       " 15,\n",
       " 15]"
      ]
     },
     "execution_count": 24,
     "metadata": {},
     "output_type": "execute_result"
    }
   ],
   "source": [
    "# how phred quality scores look like\n",
    "rec = SeqIO.parse(\"SRR020192.fastq\", \"fastq\")\n",
    "rec = next(rec)\n",
    "rec.letter_annotations[\"phred_quality\"]"
   ]
  },
  {
   "cell_type": "code",
   "execution_count": 25,
   "id": "c55d3051",
   "metadata": {},
   "outputs": [
    {
     "name": "stdout",
     "output_type": "stream",
     "text": [
      "Saved 20050 reads.\n"
     ]
    }
   ],
   "source": [
    "good_reads = (\n",
    "    rec\n",
    "    for rec in SeqIO.parse(\"SRR020192.fastq\", \"fastq\")\n",
    "    if min(rec.letter_annotations[\"phred_quality\"]) >= 20\n",
    ")\n",
    "count = SeqIO.write(good_reads, \"good_quality.fastq\", \"fastq\")\n",
    "print(f\"Saved {count} reads.\")"
   ]
  },
  {
   "cell_type": "markdown",
   "id": "a21a4092",
   "metadata": {},
   "source": [
    "This pulled out only 20050 reads out of the 41892 present"
   ]
  }
 ],
 "metadata": {
  "kernelspec": {
   "display_name": "Python 3 (ipykernel)",
   "language": "python",
   "name": "python3"
  },
  "language_info": {
   "codemirror_mode": {
    "name": "ipython",
    "version": 3
   },
   "file_extension": ".py",
   "mimetype": "text/x-python",
   "name": "python",
   "nbconvert_exporter": "python",
   "pygments_lexer": "ipython3",
   "version": "3.10.9"
  }
 },
 "nbformat": 4,
 "nbformat_minor": 5
}
